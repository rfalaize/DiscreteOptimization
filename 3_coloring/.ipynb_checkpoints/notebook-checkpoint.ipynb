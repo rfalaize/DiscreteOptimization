{
 "cells": [
  {
   "cell_type": "markdown",
   "metadata": {},
   "source": [
    "# Graph Coloring"
   ]
  },
  {
   "cell_type": "code",
   "execution_count": 1,
   "metadata": {},
   "outputs": [
    {
     "data": {
      "text/plain": [
       "{'nbnodes': 4,\n",
       " 'nbedges': 3,\n",
       " 'startnodes': [0, 1, 1],\n",
       " 'endnodes': [1, 2, 3],\n",
       " 'nodes': [0, 1, 2, 3],\n",
       " 'colors': range(0, 4),\n",
       " 'adjacentnodes': {0: [1], 1: [0, 2, 3], 2: [1], 3: [1]}}"
      ]
     },
     "execution_count": 1,
     "metadata": {},
     "output_type": "execute_result"
    }
   ],
   "source": [
    "from datetime import datetime\n",
    "\n",
    "def LogInfo(msg):\n",
    "    print(datetime.now().strftime('%H:%M:%S') + ' - ' + msg)\n",
    "\n",
    "def ReadFile(file_location):\n",
    "    with open(file_location, 'r') as input_data_file:\n",
    "        input_data = input_data_file.read()\n",
    "    return input_data\n",
    "\n",
    "def GetInputs(input_data):\n",
    "    input_data = input_data.splitlines()\n",
    "    input_data = [list(map(int, x.split(' ')))  for x in input_data]\n",
    "    inputs={}\n",
    "    inputs['nbnodes'] = input_data[0][0]\n",
    "    inputs['nbedges'] = input_data[0][1]\n",
    "    inputs['startnodes'] = [row[0] for row in input_data[1:]]\n",
    "    inputs['endnodes'] = [row[1] for row in input_data[1:]]\n",
    "    adjacentnodes = {}\n",
    "    for row in input_data[1:]:\n",
    "        node1 = row[0]\n",
    "        node2 = row[1]\n",
    "        if node1 not in adjacentnodes:\n",
    "            adjacentnodes[node1] = []\n",
    "        if node2 not in adjacentnodes[node1]:\n",
    "            adjacentnodes[node1].append(node2)\n",
    "        if node2 not in adjacentnodes:\n",
    "            adjacentnodes[node2] = []\n",
    "        if node1 not in adjacentnodes[node2]:\n",
    "            adjacentnodes[node2].append(node1)\n",
    "    for k, v in adjacentnodes.items():\n",
    "        v.sort()\n",
    "    inputs['nodes'] = list(adjacentnodes.keys())\n",
    "    inputs['colors'] = range(len(inputs['nodes'])) # initialize colors to one for each node\n",
    "    inputs['adjacentnodes'] = adjacentnodes\n",
    "    return inputs\n",
    "\n",
    "inputs = GetInputs(ReadFile('data/gc_4_1'))\n",
    "inputs"
   ]
  },
  {
   "cell_type": "markdown",
   "metadata": {},
   "source": [
    "### Option 1: Greedy algorithm"
   ]
  },
  {
   "cell_type": "code",
   "execution_count": 2,
   "metadata": {},
   "outputs": [
    {
     "name": "stdout",
     "output_type": "stream",
     "text": [
      "21:08:58 - Configuration 0 computed; objective = 2\n",
      "21:08:58 - Configuration 1 computed; objective = 2\n",
      "21:08:58 - Results:\n",
      "21:08:58 - Best output: 2\n",
      "21:08:58 - Worst output: 2\n"
     ]
    }
   ],
   "source": [
    "# %%time\n",
    "\n",
    "# function to run the algorithm for a given, ordered, list of nodes \n",
    "def RunGreedyAlgorithm(inputNodes, inputs):\n",
    "    nodecolors = {}\n",
    "\n",
    "    # loop on each node\n",
    "    for node in inputs['nodes']:\n",
    "        #print('>> Node ', node)\n",
    "        for color in inputs['colors']:\n",
    "            #print('    >> Color ', color)\n",
    "            # try to assign each color until one is valid\n",
    "            # to determine if a color is valid, we look at all adjacent nodes and discard already assigned colors.\n",
    "            isAvailable = True\n",
    "\n",
    "            if node not in inputs['adjacentnodes']:\n",
    "                # if the node doesn't have any adjacent nodes, assign the first available color\n",
    "                print('does not have any neighboors')\n",
    "                nodecolors[node] = color\n",
    "                break\n",
    "\n",
    "            adjacentNodes = inputs['adjacentnodes'][node]\n",
    "            for adjacentNode in adjacentNodes:\n",
    "                if adjacentNode in nodecolors:\n",
    "                    # if the node already has a color assigned ...\n",
    "                    if nodecolors[adjacentNode] == color:\n",
    "                        # ... and if the color assigned is the same than the current one, discard it.\n",
    "                        isAvailable = False\n",
    "                        break\n",
    "\n",
    "            if isAvailable:\n",
    "                nodecolors[node] = color\n",
    "                break\n",
    "\n",
    "    output = {}\n",
    "    output['objective'] = len(set(nodecolors.values()))\n",
    "    output['variables'] = list(nodecolors.values())\n",
    "    return output\n",
    "\n",
    "# try different orders of input nodes\n",
    "# inputs['nbnodes']\n",
    "tmpInput = inputs['nodes'].copy()\n",
    "bestOutput = {}\n",
    "worstOutput = {}\n",
    "for i in range(2):\n",
    "#for i in range(inputs['nbnodes']):\n",
    "    tmpInput = tmpInput[-1:] + tmpInput[:-1]\n",
    "    tmpOutput = RunGreedyAlgorithm(tmpInput, inputs)\n",
    "    if bestOutput == {}:\n",
    "        bestOutput = tmpOutput\n",
    "    elif tmpOutput['objective'] < bestOutput['objective']:\n",
    "        bestOutput = tmpOutput\n",
    "    if worstOutput == {}:\n",
    "        worstOutput = tmpOutput\n",
    "    elif worstOutput['objective'] < tmpOutput['objective']:\n",
    "        worstOutput = tmpOutput  \n",
    "    LogInfo('Configuration ' + str(i) + ' computed; objective = ' + str(tmpOutput['objective']))\n",
    "\n",
    "LogInfo('Results:')\n",
    "LogInfo('Best output: ' + str(bestOutput['objective']))\n",
    "LogInfo('Worst output: ' + str(worstOutput['objective']))"
   ]
  },
  {
   "cell_type": "markdown",
   "metadata": {},
   "source": [
    "### Option 2: OR Tools - CP"
   ]
  },
  {
   "cell_type": "code",
   "execution_count": 6,
   "metadata": {},
   "outputs": [
    {
     "name": "stdout",
     "output_type": "stream",
     "text": [
      "Greedy objective:  2\n",
      "2  solutions scanned.\n",
      "objective:  2\n",
      "results:  [0, 1, 0, 0]\n"
     ]
    }
   ],
   "source": [
    "from ortools.constraint_solver import pywrapcp\n",
    "\n",
    "# Creates the solver\n",
    "solver = pywrapcp.Solver(\"GraphColoring\")\n",
    "\n",
    "# run greedy algorithm first, to find an upper bound on the number of required colors\n",
    "greedyoutputs = RunGreedyAlgorithm(inputs['nodes'], inputs)\n",
    "print('Greedy objective: ', greedyoutputs['objective'])\n",
    "\n",
    "# Creates the variables\n",
    "variables = []\n",
    "for i in range(inputs['nbnodes']):\n",
    "    # x = solver.IntVar(0, inputs['nbnodes'] - 1, \"x\" + str(i))\n",
    "    x = solver.IntVar(0, greedyoutputs['objective'] - 1, \"x\" + str(i))\n",
    "    variables.append(x)\n",
    "\n",
    "# Create the constraints\n",
    "for edge in range(inputs['nbedges']):\n",
    "    # get variables corresponding to start and end nodes\n",
    "    snode = inputs['startnodes'][edge]\n",
    "    enode = inputs['endnodes'][edge]\n",
    "    #print('Adding constraint: ', snode, ' != ', enode)\n",
    "    xs = variables[snode]\n",
    "    xe = variables[enode]\n",
    "    solver.Add(xs != xe)\n",
    "\n",
    "# Create the decision builder\n",
    "db = solver.Phase(variables, solver.CHOOSE_FIRST_UNBOUND, solver.ASSIGN_MIN_VALUE)\n",
    "solver.Solve(db)\n",
    "\n",
    "count = 0\n",
    "outputs = {}\n",
    "while solver.NextSolution():\n",
    "    count += 1\n",
    "    # get variable values\n",
    "    results = []\n",
    "    for x in variables:\n",
    "        results.append(x.Value())\n",
    "    objective = len(set(results))\n",
    "    if outputs == {}:\n",
    "        outputs['objective'] = objective\n",
    "        outputs['results'] = results\n",
    "    elif objective < outputs['objective']:\n",
    "        outputs['objective'] = objective\n",
    "        outputs['results'] = results\n",
    "    if (count % 100) == 0:\n",
    "        print(\"Solution\", count, '; objective=', tmpobjective)\n",
    "\n",
    "print(count, ' solutions scanned.')\n",
    "print('objective: ', outputs['objective'])\n",
    "print('results: ', outputs['results'])"
   ]
  },
  {
   "cell_type": "code",
   "execution_count": null,
   "metadata": {},
   "outputs": [],
   "source": []
  },
  {
   "cell_type": "code",
   "execution_count": null,
   "metadata": {},
   "outputs": [],
   "source": []
  },
  {
   "cell_type": "code",
   "execution_count": null,
   "metadata": {},
   "outputs": [],
   "source": []
  },
  {
   "cell_type": "code",
   "execution_count": null,
   "metadata": {},
   "outputs": [],
   "source": []
  }
 ],
 "metadata": {
  "kernelspec": {
   "display_name": "Python 3",
   "language": "python",
   "name": "python3"
  },
  "language_info": {
   "codemirror_mode": {
    "name": "ipython",
    "version": 3
   },
   "file_extension": ".py",
   "mimetype": "text/x-python",
   "name": "python",
   "nbconvert_exporter": "python",
   "pygments_lexer": "ipython3",
   "version": "3.6.6"
  }
 },
 "nbformat": 4,
 "nbformat_minor": 2
}
