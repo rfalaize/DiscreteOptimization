{
 "cells": [
  {
   "cell_type": "markdown",
   "metadata": {},
   "source": [
    "# Graph Coloring"
   ]
  },
  {
   "cell_type": "code",
   "execution_count": 24,
   "metadata": {},
   "outputs": [],
   "source": [
    "from datetime import datetime\n",
    "\n",
    "def LogInfo(msg):\n",
    "    print(datetime.now().strftime('%H:%M:%S') + ' - ' + msg)\n",
    "\n",
    "def ReadFile(file_location):\n",
    "    with open(file_location, 'r') as input_data_file:\n",
    "        input_data = input_data_file.read()\n",
    "    return input_data\n",
    "\n",
    "def GetInputs(input_data):\n",
    "    input_data = input_data.splitlines()\n",
    "    input_data = [list(map(int, x.split(' ')))  for x in input_data]\n",
    "    inputs={}\n",
    "    inputs['nbnodes'] = input_data[0][0]\n",
    "    inputs['nbedges'] = input_data[0][1]\n",
    "    #inputs['startnodes'] = [row[0] for row in input_data[1:]]\n",
    "    #inputs['endnodes'] = [row[1] for row in input_data[1:]]\n",
    "    adjacentnodes = {}\n",
    "    for row in input_data[1:]:\n",
    "        node1 = row[0]\n",
    "        node2 = row[1]\n",
    "        if node1 not in adjacentnodes:\n",
    "            adjacentnodes[node1] = []\n",
    "        if node2 not in adjacentnodes[node1]:\n",
    "            adjacentnodes[node1].append(node2)\n",
    "        if node2 not in adjacentnodes:\n",
    "            adjacentnodes[node2] = []\n",
    "        if node1 not in adjacentnodes[node2]:\n",
    "            adjacentnodes[node2].append(node1)\n",
    "    for k, v in adjacentnodes.items():\n",
    "        v.sort()\n",
    "    inputs['nodes'] = list(adjacentnodes.keys())\n",
    "    inputs['colors'] = range(len(inputs['nodes'])) # initialize colors to one for each node\n",
    "    inputs['adjacentnodes'] = adjacentnodes\n",
    "    return inputs\n",
    "\n",
    "inputs = GetInputs(ReadFile('data/gc_1000_5'))\n",
    "#inputs"
   ]
  },
  {
   "cell_type": "markdown",
   "metadata": {},
   "source": [
    "### Option 1: Greedy algorithm"
   ]
  },
  {
   "cell_type": "code",
   "execution_count": 26,
   "metadata": {},
   "outputs": [
    {
     "name": "stdout",
     "output_type": "stream",
     "text": [
      "17:36:13 - Configuration 0 computed; objective = 127\n",
      "17:36:13 - Configuration 1 computed; objective = 127\n",
      "17:36:13 - Results:\n",
      "17:36:13 - Best output: 127\n",
      "17:36:13 - Worst output: 127\n"
     ]
    }
   ],
   "source": [
    "# %%time\n",
    "\n",
    "# function to run the algorithm for a given, ordered, list of nodes \n",
    "def RunGreedyAlgorithm(inputNodes, inputs):\n",
    "    nodecolors = {}\n",
    "\n",
    "    # loop on each node\n",
    "    for node in inputs['nodes']:\n",
    "        #print('>> Node ', node)\n",
    "        for color in inputs['colors']:\n",
    "            #print('    >> Color ', color)\n",
    "            # try to assign each color until one is valid\n",
    "            # to determine if a color is valid, we look at all adjacent nodes and discard already assigned colors.\n",
    "            isAvailable = True\n",
    "\n",
    "            if node not in inputs['adjacentnodes']:\n",
    "                # if the node doesn't have any adjacent nodes, assign the first available color\n",
    "                print('does not have any neighboors')\n",
    "                nodecolors[node] = color\n",
    "                break\n",
    "\n",
    "            adjacentNodes = inputs['adjacentnodes'][node]\n",
    "            for adjacentNode in adjacentNodes:\n",
    "                if adjacentNode in nodecolors:\n",
    "                    # if the node already has a color assigned ...\n",
    "                    if nodecolors[adjacentNode] == color:\n",
    "                        # ... and if the color assigned is the same than the current one, discard it.\n",
    "                        isAvailable = False\n",
    "                        break\n",
    "\n",
    "            if isAvailable:\n",
    "                nodecolors[node] = color\n",
    "                break\n",
    "\n",
    "    output = {}\n",
    "    output['objective'] = len(set(nodecolors.values()))\n",
    "    output['variables'] = list(nodecolors.values())\n",
    "    return output\n",
    "\n",
    "# try different orders of input nodes\n",
    "# inputs['nbnodes']\n",
    "tmpInput = inputs['nodes'].copy()\n",
    "bestOutput = {}\n",
    "worstOutput = {}\n",
    "for i in range(2):\n",
    "#for i in range(inputs['nbnodes']):\n",
    "    tmpInput = tmpInput[-1:] + tmpInput[:-1]\n",
    "    tmpOutput = RunGreedyAlgorithm(tmpInput, inputs)\n",
    "    if bestOutput == {}:\n",
    "        bestOutput = tmpOutput\n",
    "    elif tmpOutput['objective'] < bestOutput['objective']:\n",
    "        bestOutput = tmpOutput\n",
    "    if worstOutput == {}:\n",
    "        worstOutput = tmpOutput\n",
    "    elif worstOutput['objective'] < tmpOutput['objective']:\n",
    "        worstOutput = tmpOutput  \n",
    "    LogInfo('Configuration ' + str(i) + ' computed; objective = ' + str(tmpOutput['objective']))\n",
    "\n",
    "LogInfo('Results:')\n",
    "LogInfo('Best output: ' + str(bestOutput['objective']))\n",
    "LogInfo('Worst output: ' + str(worstOutput['objective']))"
   ]
  },
  {
   "cell_type": "markdown",
   "metadata": {},
   "source": [
    "### Option 2: "
   ]
  },
  {
   "cell_type": "code",
   "execution_count": 17,
   "metadata": {},
   "outputs": [
    {
     "data": {
      "text/plain": [
       "4"
      ]
     },
     "execution_count": 17,
     "metadata": {},
     "output_type": "execute_result"
    }
   ],
   "source": [
    "inputs['nbnodes']"
   ]
  },
  {
   "cell_type": "code",
   "execution_count": null,
   "metadata": {},
   "outputs": [],
   "source": []
  }
 ],
 "metadata": {
  "kernelspec": {
   "display_name": "Python 3",
   "language": "python",
   "name": "python3"
  },
  "language_info": {
   "codemirror_mode": {
    "name": "ipython",
    "version": 3
   },
   "file_extension": ".py",
   "mimetype": "text/x-python",
   "name": "python",
   "nbconvert_exporter": "python",
   "pygments_lexer": "ipython3",
   "version": "3.6.6"
  }
 },
 "nbformat": 4,
 "nbformat_minor": 2
}
